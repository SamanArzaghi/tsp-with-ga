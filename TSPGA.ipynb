{
 "cells": [
  {
   "cell_type": "markdown",
   "id": "0baa1b46",
   "metadata": {
    "ExecuteTime": {
     "end_time": "2021-11-09T15:44:37.389947Z",
     "start_time": "2021-11-09T15:44:37.373989Z"
    }
   },
   "source": [
    "# Solve TSP problem with Genetic algorithm \n",
    "*SamanArzaghi_610398096*"
   ]
  },
  {
   "cell_type": "markdown",
   "id": "0a02bdee",
   "metadata": {},
   "source": [
    "## Importing libraries\n",
    "First we are going to import some libraries which we may need later..."
   ]
  },
  {
   "cell_type": "code",
   "execution_count": 1,
   "id": "c79c025d",
   "metadata": {
    "ExecuteTime": {
     "end_time": "2021-11-09T17:34:57.187553Z",
     "start_time": "2021-11-09T17:34:56.687919Z"
    }
   },
   "outputs": [],
   "source": [
    "# importing some libraries which may we need\n",
    "import numpy as np\n",
    "import pandas as pd\n",
    "import matplotlib.pyplot as plt\n",
    "import random\n",
    "import operator\n",
    "import math"
   ]
  },
  {
   "cell_type": "markdown",
   "id": "d18267cf",
   "metadata": {},
   "source": [
    "## Extract data from files\n",
    "### A : first test case(bayg29)\n",
    "by opening file we are going to extract weights from tsp.file :"
   ]
  },
  {
   "cell_type": "code",
   "execution_count": 2,
   "id": "656c37b4",
   "metadata": {
    "ExecuteTime": {
     "end_time": "2021-11-09T17:34:57.518653Z",
     "start_time": "2021-11-09T17:34:57.506611Z"
    }
   },
   "outputs": [],
   "source": [
    "# open file\n",
    "f = open(\"bayg29.tsp\", \"r\")\n",
    "txt = f.readlines()\n",
    "dic_city_length = {}\n",
    "current_node = 0\n",
    "# choosing dimenstion\n",
    "dimension = 29\n",
    "# extracting weightes\n",
    "for i in range(8,36):\n",
    "    current_node += 1\n",
    "    list_weitght = [float(idx) for idx in txt[i].split()]\n",
    "    for j in range(len(list_weitght)):\n",
    "        dic_city_length[current_node, j + current_node + 1] = list_weitght[j]\n",
    "        dic_city_length[j + current_node + 1, current_node] = list_weitght[j]\n",
    "# creat two lists for saving best routes and lengths\n",
    "best_length = []\n",
    "best_routes = []"
   ]
  },
  {
   "cell_type": "markdown",
   "id": "6453ca6c",
   "metadata": {},
   "source": [
    "## Initial population\n",
    "creating 100 unique routes."
   ]
  },
  {
   "cell_type": "code",
   "execution_count": 3,
   "id": "55a795c2",
   "metadata": {
    "ExecuteTime": {
     "end_time": "2021-11-09T17:34:57.959331Z",
     "start_time": "2021-11-09T17:34:57.944371Z"
    }
   },
   "outputs": [],
   "source": [
    "routes = []\n",
    "while(len(routes) < 100): \n",
    "    new_route = random.sample(range(1, dimension + 1), dimension)\n",
    "    # check if new route is unique or not\n",
    "    if new_route not in routes:\n",
    "        routes.append(new_route)"
   ]
  },
  {
   "cell_type": "markdown",
   "id": "4e60096d",
   "metadata": {},
   "source": [
    "# Creating data-frame\n",
    "we use pandas data-frame to access datas better"
   ]
  },
  {
   "cell_type": "code",
   "execution_count": 4,
   "id": "90f390b1",
   "metadata": {
    "ExecuteTime": {
     "end_time": "2021-11-09T17:34:58.554445Z",
     "start_time": "2021-11-09T17:34:58.518511Z"
    }
   },
   "outputs": [
    {
     "data": {
      "text/html": [
       "<div>\n",
       "<style scoped>\n",
       "    .dataframe tbody tr th:only-of-type {\n",
       "        vertical-align: middle;\n",
       "    }\n",
       "\n",
       "    .dataframe tbody tr th {\n",
       "        vertical-align: top;\n",
       "    }\n",
       "\n",
       "    .dataframe thead th {\n",
       "        text-align: right;\n",
       "    }\n",
       "</style>\n",
       "<table border=\"1\" class=\"dataframe\">\n",
       "  <thead>\n",
       "    <tr style=\"text-align: right;\">\n",
       "      <th></th>\n",
       "      <th>routes</th>\n",
       "    </tr>\n",
       "  </thead>\n",
       "  <tbody>\n",
       "    <tr>\n",
       "      <th>0</th>\n",
       "      <td>[6, 13, 8, 16, 20, 5, 19, 15, 7, 9, 27, 11, 10...</td>\n",
       "    </tr>\n",
       "    <tr>\n",
       "      <th>1</th>\n",
       "      <td>[10, 16, 15, 19, 14, 5, 25, 6, 8, 4, 2, 20, 12...</td>\n",
       "    </tr>\n",
       "    <tr>\n",
       "      <th>2</th>\n",
       "      <td>[26, 20, 2, 21, 7, 12, 16, 13, 27, 18, 10, 9, ...</td>\n",
       "    </tr>\n",
       "    <tr>\n",
       "      <th>3</th>\n",
       "      <td>[13, 27, 16, 24, 8, 21, 3, 7, 9, 12, 22, 17, 2...</td>\n",
       "    </tr>\n",
       "    <tr>\n",
       "      <th>4</th>\n",
       "      <td>[8, 21, 2, 6, 16, 15, 11, 24, 4, 7, 29, 28, 14...</td>\n",
       "    </tr>\n",
       "    <tr>\n",
       "      <th>...</th>\n",
       "      <td>...</td>\n",
       "    </tr>\n",
       "    <tr>\n",
       "      <th>95</th>\n",
       "      <td>[6, 4, 23, 15, 5, 28, 11, 25, 18, 14, 10, 22, ...</td>\n",
       "    </tr>\n",
       "    <tr>\n",
       "      <th>96</th>\n",
       "      <td>[7, 4, 19, 27, 25, 3, 1, 26, 29, 18, 16, 13, 9...</td>\n",
       "    </tr>\n",
       "    <tr>\n",
       "      <th>97</th>\n",
       "      <td>[3, 23, 27, 2, 26, 12, 19, 5, 15, 16, 21, 25, ...</td>\n",
       "    </tr>\n",
       "    <tr>\n",
       "      <th>98</th>\n",
       "      <td>[16, 18, 3, 24, 5, 17, 19, 11, 21, 12, 28, 20,...</td>\n",
       "    </tr>\n",
       "    <tr>\n",
       "      <th>99</th>\n",
       "      <td>[18, 20, 3, 28, 13, 7, 21, 29, 17, 2, 27, 14, ...</td>\n",
       "    </tr>\n",
       "  </tbody>\n",
       "</table>\n",
       "<p>100 rows × 1 columns</p>\n",
       "</div>"
      ],
      "text/plain": [
       "                                               routes\n",
       "0   [6, 13, 8, 16, 20, 5, 19, 15, 7, 9, 27, 11, 10...\n",
       "1   [10, 16, 15, 19, 14, 5, 25, 6, 8, 4, 2, 20, 12...\n",
       "2   [26, 20, 2, 21, 7, 12, 16, 13, 27, 18, 10, 9, ...\n",
       "3   [13, 27, 16, 24, 8, 21, 3, 7, 9, 12, 22, 17, 2...\n",
       "4   [8, 21, 2, 6, 16, 15, 11, 24, 4, 7, 29, 28, 14...\n",
       "..                                                ...\n",
       "95  [6, 4, 23, 15, 5, 28, 11, 25, 18, 14, 10, 22, ...\n",
       "96  [7, 4, 19, 27, 25, 3, 1, 26, 29, 18, 16, 13, 9...\n",
       "97  [3, 23, 27, 2, 26, 12, 19, 5, 15, 16, 21, 25, ...\n",
       "98  [16, 18, 3, 24, 5, 17, 19, 11, 21, 12, 28, 20,...\n",
       "99  [18, 20, 3, 28, 13, 7, 21, 29, 17, 2, 27, 14, ...\n",
       "\n",
       "[100 rows x 1 columns]"
      ]
     },
     "execution_count": 4,
     "metadata": {},
     "output_type": "execute_result"
    }
   ],
   "source": [
    "df = {'routes' : routes}\n",
    "df = pd.DataFrame(df)\n",
    "df"
   ]
  },
  {
   "cell_type": "markdown",
   "id": "ffd6e31e",
   "metadata": {},
   "source": [
    "# Calculate fitness\n",
    "with this function we can calculate a whole cycle length of a rout.\n",
    "\n",
    "**NOTE** : because shorter length is better in this position, we move length between 0 and 1. \n",
    "(divide 1 by length)"
   ]
  },
  {
   "cell_type": "code",
   "execution_count": 5,
   "id": "a2575993",
   "metadata": {
    "ExecuteTime": {
     "end_time": "2021-11-09T17:34:59.134169Z",
     "start_time": "2021-11-09T17:34:59.112736Z"
    }
   },
   "outputs": [],
   "source": [
    "def calculate_fitness(route):\n",
    "    '''\n",
    "        route --> a single route ( type : list )\n",
    "    '''\n",
    "    distance = 0\n",
    "    for i in range(len(route) - 1):\n",
    "        distance += dic_city_length[route[i], route[i + 1]]\n",
    "    # from last node to first node\n",
    "    distance += dic_city_length[route[0], route[-1]]\n",
    "    fitness = 1 / float(distance)\n",
    "    return fitness "
   ]
  },
  {
   "cell_type": "markdown",
   "id": "136f3fb2",
   "metadata": {},
   "source": [
    "# Selection\n",
    "by evaluate function we will chose most talented route to survive.\n",
    "\n",
    "**NOTE** : both competitive methods and the survival of the fittest have been tried and the second method has obtained better results."
   ]
  },
  {
   "cell_type": "code",
   "execution_count": 6,
   "id": "653a0aa2",
   "metadata": {
    "ExecuteTime": {
     "end_time": "2021-11-09T17:34:59.541869Z",
     "start_time": "2021-11-09T17:34:59.525857Z"
    }
   },
   "outputs": [],
   "source": [
    "def evaluate(df, num_chosens):\n",
    "    '''\n",
    "        df --> data-frame of routes ( type : pandas-df )\n",
    "        num_chosens --> survival rate ( type : int )\n",
    "    '''\n",
    "    # In the comment below, I implemented a competitive method and DID NOT get a good result\n",
    "    '''\n",
    "    for i in range(len(df)):\n",
    "        df.loc[i, 'fitness'] = calculate_fitness(df.loc[i, 'routes'])   \n",
    "    column = df[\"fitness\"]\n",
    "    max_index = column.idxmax()\n",
    "    best_length.append(1 / df.loc[max_index, 'fitness'])\n",
    "    best_routes.append(df.loc[max_index, 'routes'])\n",
    "    sums = df['fitness'].sum()\n",
    "    for i in range(len(df)):\n",
    "        df.loc[i, 'prob_choosing'] = df.loc[i, 'fitness'] / sums\n",
    "    probe_of_routes = list(df['prob_choosing'])\n",
    "    routes_list = list(range(0, len(df)))\n",
    "    accepted_routes = []\n",
    "    while(len(accepted_routes) != num_chosens):\n",
    "        accepted_one = random.choices(routes_list, weights = probe_of_routes, k = 1)[0]\n",
    "        if(accepted_one not in accepted_routes):\n",
    "            accepted_routes.append(accepted_one)\n",
    "    for i in range(len(accepted_routes)):\n",
    "        accepted_routes[i] = df.loc[accepted_routes[i], 'routes']\n",
    "    df = pd.DataFrame({'routes' : accepted_routes})\n",
    "    '''\n",
    "    # calculating fitness for each route\n",
    "    for i in range(len(df)):\n",
    "        df.loc[i, 'fitness'] = calculate_fitness(df.loc[i, 'routes']) \n",
    "    # sorting by fitness\n",
    "    df = df.sort_values(by=['fitness'], ascending=False)\n",
    "    df = df.reset_index()\n",
    "    # save best route and it's length\n",
    "    best_length.append(1 / df.loc[0, 'fitness'])\n",
    "    best_routes.append(df.loc[0, 'routes'])\n",
    "    accepted_routes = []\n",
    "    # convert new generation to data-frame\n",
    "    for i in range(num_chosens):\n",
    "        accepted_routes.append(df.loc[i, 'routes'])\n",
    "    df = pd.DataFrame({'routes' : accepted_routes})\n",
    "    return df"
   ]
  },
  {
   "cell_type": "markdown",
   "id": "96374588",
   "metadata": {},
   "source": [
    "# Creating mutation functions\n",
    "i decided not to use just one mutation function, but to use several mutation functions and use them all (hybrid mutation).\n",
    "\n",
    "in the next cell, we construct four different mutation functions (swap, inversion, RGIBNNM, and IRGIBNNM, respectively)."
   ]
  },
  {
   "cell_type": "code",
   "execution_count": 7,
   "id": "797227a5",
   "metadata": {
    "ExecuteTime": {
     "end_time": "2021-11-09T17:35:00.172107Z",
     "start_time": "2021-11-09T17:35:00.154157Z"
    }
   },
   "outputs": [],
   "source": [
    "# make swap mutation\n",
    "def swap_mutation(route):\n",
    "    '''\n",
    "        route --> a single route ( type : list )\n",
    "    '''\n",
    "    # choose two randome cities\n",
    "    first_gen, second_gen = random.sample(range(len(route)), 2)\n",
    "    # change their places\n",
    "    route[first_gen], route[second_gen] = route[second_gen], route[first_gen]\n",
    "    return route"
   ]
  },
  {
   "cell_type": "code",
   "execution_count": 8,
   "id": "a445bacc",
   "metadata": {
    "ExecuteTime": {
     "end_time": "2021-11-09T17:35:00.534633Z",
     "start_time": "2021-11-09T17:35:00.508638Z"
    }
   },
   "outputs": [],
   "source": [
    "# make inversion mutation\n",
    "def inversion_mutation(route):\n",
    "    '''\n",
    "        route --> a single route ( type : list )\n",
    "    '''\n",
    "    # choose two random cities\n",
    "    first_gen, second_gen = random.sample(range(len(route)), 2)\n",
    "    if(first_gen > second_gen):\n",
    "        first_gen, second_gen = second_gen, first_gen\n",
    "    sub_set = route[first_gen + 1 : second_gen]\n",
    "    # inverse the sub set between two random cities\n",
    "    sub_set = sub_set[::-1]\n",
    "    route[first_gen + 1 : second_gen] = sub_set\n",
    "    return route"
   ]
  },
  {
   "cell_type": "code",
   "execution_count": 9,
   "id": "e3a15d64",
   "metadata": {
    "ExecuteTime": {
     "end_time": "2021-11-09T17:35:00.939427Z",
     "start_time": "2021-11-09T17:35:00.903012Z"
    }
   },
   "outputs": [],
   "source": [
    "# make RGIBNNM mutation\n",
    "def RGIBNNM_mutation(route):\n",
    "    '''\n",
    "        route --> a single route ( type : list )\n",
    "    '''\n",
    "    # choose one randome city\n",
    "    first_gen = random.sample(range(len(route)), 1)[0]\n",
    "    # finde the closes city to random city\n",
    "    most_close = float(\"inf\")\n",
    "    for i in range(len(route)):\n",
    "        if(i != first_gen):\n",
    "            if(dic_city_length[route[first_gen], route[i]] < most_close):\n",
    "                most_close = dic_city_length[route[first_gen], route[i]]\n",
    "                second_gen = i\n",
    "    # move the random city before closest that we found and shift others\n",
    "    temp_number = route[first_gen]\n",
    "    temp_number_2 = route[second_gen]\n",
    "    route.remove(temp_number)\n",
    "    route.insert(route.index(temp_number_2), temp_number)\n",
    "    return route"
   ]
  },
  {
   "cell_type": "code",
   "execution_count": 10,
   "id": "e9ed4c9b",
   "metadata": {
    "ExecuteTime": {
     "end_time": "2021-11-09T17:35:01.322787Z",
     "start_time": "2021-11-09T17:35:01.295875Z"
    }
   },
   "outputs": [],
   "source": [
    "# make IRGIBNNM mutation\n",
    "def IRGIBNNM_mutation(route):\n",
    "    '''\n",
    "        route --> a single route ( type : list )\n",
    "    '''\n",
    "    # apply inversion mutation first\n",
    "    route = inversion_mutation(route)\n",
    "    # choose a random city\n",
    "    first_gen = random.sample(range(len(route)), 1)[0]\n",
    "    # find the closest city to random city\n",
    "    most_close = float(\"inf\")\n",
    "    for i in range(len(route)):\n",
    "        if(i != first_gen):\n",
    "            if(dic_city_length[route[first_gen], route[i]] < most_close):\n",
    "                most_close = dic_city_length[route[first_gen], route[i]]\n",
    "                second_gen = i\n",
    "    # find the closest five cities to second city\n",
    "    neiber_second_gen = []\n",
    "    for i in range(len(route)):\n",
    "        if(i != second_gen):\n",
    "            neiber_second_gen.append([route[i], dic_city_length[route[second_gen], route[i]]])\n",
    "    neiber_second_gen = sorted(neiber_second_gen, key = lambda x: x[1])\n",
    "    temp_number = route[first_gen]\n",
    "    # randomly choose one of five citys that we found\n",
    "    while(True):\n",
    "        random_gen = random.sample(range(5), 1)[0]\n",
    "        if(neiber_second_gen[random_gen][0] != temp_number):\n",
    "            temp_number_2 = neiber_second_gen[random_gen][0]\n",
    "            break\n",
    "    # move first random city before third city we choose and shift other ones\n",
    "    route.remove(temp_number)\n",
    "    route.insert(route.index(temp_number_2), temp_number)\n",
    "    return route"
   ]
  },
  {
   "cell_type": "markdown",
   "id": "3a9b2d1c",
   "metadata": {},
   "source": [
    "# Make new generation( apply mutation function)\n",
    "with the below code we are going to apply mutation function on all routes and twice the population.\n",
    "\n",
    "how we do it?!\n",
    "\n",
    "it's easy : we apply for mutation functions on every single route and choose the best mutation that have made, check it if it's unique, and then add it to data-frame.\n",
    "\n",
    "**Note :** if you noticed, we did not do any cross over... because i've tried both with cross over and without cross over, and every time without cross over performed better. so, some how in TSP problem cross over does not work."
   ]
  },
  {
   "cell_type": "code",
   "execution_count": 11,
   "id": "38c831fd",
   "metadata": {
    "ExecuteTime": {
     "end_time": "2021-11-09T17:35:01.717582Z",
     "start_time": "2021-11-09T17:35:01.706586Z"
    }
   },
   "outputs": [],
   "source": [
    "# make new generation\n",
    "def new_generation(df):\n",
    "    '''\n",
    "            df --> data-frame of routes ( type : pandas-df )\n",
    "    '''\n",
    "    new_gen_list = []\n",
    "    # apply for mutations on every single rout\n",
    "    for i in list(df['routes']):\n",
    "        mutation_list = []\n",
    "        test =  i.copy()\n",
    "        swap_mut = swap_mutation(test)\n",
    "        mutation_list.append([swap_mut, calculate_fitness(swap_mut)])\n",
    "        test =  i.copy()\n",
    "        inversion_mut = inversion_mutation(test)\n",
    "        mutation_list.append([inversion_mut, calculate_fitness(inversion_mut)])\n",
    "        test =  i.copy()\n",
    "        RGIBNNM_mut = RGIBNNM_mutation(test)\n",
    "        mutation_list.append([RGIBNNM_mut, calculate_fitness(RGIBNNM_mut)])\n",
    "        test =  i.copy()\n",
    "        IRGIBNNM_mut = IRGIBNNM_mutation(test)\n",
    "        mutation_list.append([IRGIBNNM_mut, calculate_fitness(IRGIBNNM_mut)])\n",
    "        mutation_list = sorted(mutation_list, key = lambda x: x[1],reverse=True)\n",
    "        # choose the best one\n",
    "        for i in mutation_list:\n",
    "            if(i not in list(df['routes'])):\n",
    "                new_gen_list.append(i[0])\n",
    "                break\n",
    "    total_list = list(df['routes']) + new_gen_list\n",
    "    df = pd.DataFrame({'routes' : total_list})\n",
    "    return df"
   ]
  },
  {
   "cell_type": "markdown",
   "id": "eb5585fb",
   "metadata": {},
   "source": [
    "# when all is said and done :))\n",
    "in the final step, we put everything together."
   ]
  },
  {
   "cell_type": "code",
   "execution_count": 12,
   "id": "16ae725c",
   "metadata": {
    "ExecuteTime": {
     "end_time": "2021-11-09T17:35:02.363349Z",
     "start_time": "2021-11-09T17:35:02.355370Z"
    }
   },
   "outputs": [],
   "source": [
    "def ga_tsp(df, num_chosens, epoch):\n",
    "    '''\n",
    "            df --> data-frame of routes ( type : pandas-df )\n",
    "            num_chosens --> survival rate ( type : int )\n",
    "            epoch -->  the number of passes of the entire population ( type : int )\n",
    "    '''\n",
    "    for i in range(epoch):\n",
    "        # creat new generation\n",
    "        df = new_generation(df)\n",
    "        # eliminate weaks\n",
    "        df = evaluate(df, num_chosens)"
   ]
  },
  {
   "cell_type": "markdown",
   "id": "1de29aae",
   "metadata": {},
   "source": [
    "# first test case(bayg29)\n",
    "we have all data ready at the beginning.\n",
    "\n",
    "we have 100 initialize population, 100 epochs, crossover = 0%, mutation = 100%, and 100 number of survivor"
   ]
  },
  {
   "cell_type": "code",
   "execution_count": 13,
   "id": "6df899ba",
   "metadata": {
    "ExecuteTime": {
     "end_time": "2021-11-09T17:35:12.084804Z",
     "start_time": "2021-11-09T17:35:07.330038Z"
    }
   },
   "outputs": [],
   "source": [
    "ga_tsp(df, 100, 100)"
   ]
  },
  {
   "cell_type": "code",
   "execution_count": 14,
   "id": "334ca192",
   "metadata": {
    "ExecuteTime": {
     "end_time": "2021-11-09T17:35:12.527811Z",
     "start_time": "2021-11-09T17:35:12.403102Z"
    },
    "scrolled": false
   },
   "outputs": [
    {
     "data": {
      "image/png": "[encoded data removed]",
      "text/plain": [
       "<Figure size 432x288 with 1 Axes>"
      ]
     },
     "metadata": {
      "needs_background": "light"
     },
     "output_type": "display_data"
    }
   ],
   "source": [
    "plt.plot(range(100), best_length)\n",
    "plt.show()"
   ]
  },
  {
   "cell_type": "markdown",
   "id": "b30ee0d1",
   "metadata": {},
   "source": [
    "we can see after 40 epochs, the data converged\n",
    "\n",
    "now let's see best route and its length..."
   ]
  },
  {
   "cell_type": "code",
   "execution_count": 15,
   "id": "affeb050",
   "metadata": {
    "ExecuteTime": {
     "end_time": "2021-11-09T17:35:25.024459Z",
     "start_time": "2021-11-09T17:35:25.013473Z"
    }
   },
   "outputs": [
    {
     "name": "stdout",
     "output_type": "stream",
     "text": [
      "1626.0\n",
      "[5, 29, 3, 26, 9, 12, 6, 28, 1, 24, 8, 27, 23, 7, 25, 11, 22, 17, 14, 18, 15, 4, 19, 16, 13, 10, 20, 2, 21]\n"
     ]
    }
   ],
   "source": [
    "length_bayg29 = best_length[-1]\n",
    "route_bayg29 = best_routes[-1]\n",
    "print(length_bayg29)\n",
    "print(route_bayg29)"
   ]
  },
  {
   "cell_type": "markdown",
   "id": "e51068cd",
   "metadata": {
    "ExecuteTime": {
     "end_time": "2021-11-09T17:15:05.610180Z",
     "start_time": "2021-11-09T17:15:05.593154Z"
    }
   },
   "source": [
    "# Second test case(gr229)\n",
    "first, let's get extract data from file"
   ]
  },
  {
   "cell_type": "code",
   "execution_count": 16,
   "id": "37f0d8bc",
   "metadata": {
    "ExecuteTime": {
     "end_time": "2021-11-09T17:35:31.540247Z",
     "start_time": "2021-11-09T17:35:31.443682Z"
    }
   },
   "outputs": [],
   "source": [
    "f = open(\"gr229.tsp\", \"r\")\n",
    "txt = f.readlines()\n",
    "dic_city_location = {}\n",
    "dic_city_length = {}\n",
    "for i in range(len(txt)):\n",
    "    if 'DIMENSION' in txt[i]:\n",
    "        dimension = [int(s) for s in txt[i].split() if s.isdigit()][0]\n",
    "    if 'NODE_COORD_SECTION' in txt[i]:\n",
    "        for j in range(i + 1, i + 1 + dimension):\n",
    "            city_location = [float(idx) for idx in txt[j].split()]\n",
    "            dic_city_location[city_location[0]] = city_location[1], city_location[2]        \n",
    "for i in range(1, len(dic_city_location)):\n",
    "    for j in range(1, len(dic_city_location)):\n",
    "        if(j >= i):\n",
    "            dic_city_length[i, j + 1] = math.sqrt(pow((dic_city_location[i][0] - dic_city_location[j + 1][0]), 2) + pow((dic_city_location[i][1] - dic_city_location[j + 1][1]), 2))\n",
    "            dic_city_length[j + 1, i] = math.sqrt(pow((dic_city_location[i][0] - dic_city_location[j + 1][0]), 2) + pow((dic_city_location[i][1] - dic_city_location[j + 1][1]), 2))\n",
    "# creat two lists for saving best routes and lengths\n",
    "best_length = []\n",
    "best_routes = []"
   ]
  },
  {
   "cell_type": "markdown",
   "id": "5ce20c83",
   "metadata": {},
   "source": [
    "create some initialize population and data-frame it"
   ]
  },
  {
   "cell_type": "code",
   "execution_count": 17,
   "id": "89cbf747",
   "metadata": {
    "ExecuteTime": {
     "end_time": "2021-11-09T17:35:34.694826Z",
     "start_time": "2021-11-09T17:35:34.650598Z"
    }
   },
   "outputs": [
    {
     "data": {
      "text/html": [
       "<div>\n",
       "<style scoped>\n",
       "    .dataframe tbody tr th:only-of-type {\n",
       "        vertical-align: middle;\n",
       "    }\n",
       "\n",
       "    .dataframe tbody tr th {\n",
       "        vertical-align: top;\n",
       "    }\n",
       "\n",
       "    .dataframe thead th {\n",
       "        text-align: right;\n",
       "    }\n",
       "</style>\n",
       "<table border=\"1\" class=\"dataframe\">\n",
       "  <thead>\n",
       "    <tr style=\"text-align: right;\">\n",
       "      <th></th>\n",
       "      <th>routes</th>\n",
       "    </tr>\n",
       "  </thead>\n",
       "  <tbody>\n",
       "    <tr>\n",
       "      <th>0</th>\n",
       "      <td>[181, 43, 81, 89, 168, 110, 124, 34, 169, 228,...</td>\n",
       "    </tr>\n",
       "    <tr>\n",
       "      <th>1</th>\n",
       "      <td>[22, 123, 53, 20, 206, 111, 102, 1, 79, 66, 36...</td>\n",
       "    </tr>\n",
       "    <tr>\n",
       "      <th>2</th>\n",
       "      <td>[19, 132, 18, 130, 72, 87, 128, 186, 9, 173, 1...</td>\n",
       "    </tr>\n",
       "    <tr>\n",
       "      <th>3</th>\n",
       "      <td>[199, 118, 195, 165, 196, 70, 175, 201, 124, 1...</td>\n",
       "    </tr>\n",
       "    <tr>\n",
       "      <th>4</th>\n",
       "      <td>[167, 226, 55, 100, 116, 21, 213, 50, 155, 7, ...</td>\n",
       "    </tr>\n",
       "    <tr>\n",
       "      <th>...</th>\n",
       "      <td>...</td>\n",
       "    </tr>\n",
       "    <tr>\n",
       "      <th>95</th>\n",
       "      <td>[74, 131, 193, 66, 120, 125, 216, 174, 34, 147...</td>\n",
       "    </tr>\n",
       "    <tr>\n",
       "      <th>96</th>\n",
       "      <td>[147, 18, 111, 90, 93, 99, 146, 49, 125, 106, ...</td>\n",
       "    </tr>\n",
       "    <tr>\n",
       "      <th>97</th>\n",
       "      <td>[184, 106, 176, 112, 185, 25, 57, 192, 199, 95...</td>\n",
       "    </tr>\n",
       "    <tr>\n",
       "      <th>98</th>\n",
       "      <td>[167, 164, 67, 206, 76, 183, 83, 182, 171, 187...</td>\n",
       "    </tr>\n",
       "    <tr>\n",
       "      <th>99</th>\n",
       "      <td>[169, 173, 26, 104, 162, 206, 77, 20, 73, 128,...</td>\n",
       "    </tr>\n",
       "  </tbody>\n",
       "</table>\n",
       "<p>100 rows × 1 columns</p>\n",
       "</div>"
      ],
      "text/plain": [
       "                                               routes\n",
       "0   [181, 43, 81, 89, 168, 110, 124, 34, 169, 228,...\n",
       "1   [22, 123, 53, 20, 206, 111, 102, 1, 79, 66, 36...\n",
       "2   [19, 132, 18, 130, 72, 87, 128, 186, 9, 173, 1...\n",
       "3   [199, 118, 195, 165, 196, 70, 175, 201, 124, 1...\n",
       "4   [167, 226, 55, 100, 116, 21, 213, 50, 155, 7, ...\n",
       "..                                                ...\n",
       "95  [74, 131, 193, 66, 120, 125, 216, 174, 34, 147...\n",
       "96  [147, 18, 111, 90, 93, 99, 146, 49, 125, 106, ...\n",
       "97  [184, 106, 176, 112, 185, 25, 57, 192, 199, 95...\n",
       "98  [167, 164, 67, 206, 76, 183, 83, 182, 171, 187...\n",
       "99  [169, 173, 26, 104, 162, 206, 77, 20, 73, 128,...\n",
       "\n",
       "[100 rows x 1 columns]"
      ]
     },
     "execution_count": 17,
     "metadata": {},
     "output_type": "execute_result"
    }
   ],
   "source": [
    "routes = []\n",
    "while(len(routes) < 100): \n",
    "    new_route = random.sample(range(1, dimension + 1), dimension)\n",
    "    # check if new route is unique or not\n",
    "    if new_route not in routes:\n",
    "        routes.append(new_route)\n",
    "df = {'routes' : routes}\n",
    "df = pd.DataFrame(df)\n",
    "df"
   ]
  },
  {
   "cell_type": "markdown",
   "id": "0ec2e147",
   "metadata": {
    "ExecuteTime": {
     "end_time": "2021-11-09T17:11:19.990032Z",
     "start_time": "2021-11-09T17:11:19.990032Z"
    }
   },
   "source": [
    "for this case, we have 100 initialize population, 2000 epochs, crossover = 0%, mutation = 100%, and 100 number of survivor"
   ]
  },
  {
   "cell_type": "code",
   "execution_count": 18,
   "id": "01f1e6e0",
   "metadata": {
    "ExecuteTime": {
     "end_time": "2021-11-09T17:39:05.166462Z",
     "start_time": "2021-11-09T17:35:41.362098Z"
    }
   },
   "outputs": [],
   "source": [
    "ga_tsp(df, 100, 2000)"
   ]
  },
  {
   "cell_type": "code",
   "execution_count": 19,
   "id": "e84913d5",
   "metadata": {
    "ExecuteTime": {
     "end_time": "2021-11-09T17:39:49.165274Z",
     "start_time": "2021-11-09T17:39:49.050561Z"
    }
   },
   "outputs": [
    {
     "data": {
      "image/png": "[encoded data removed]",
      "text/plain": [
       "<Figure size 432x288 with 1 Axes>"
      ]
     },
     "metadata": {
      "needs_background": "light"
     },
     "output_type": "display_data"
    }
   ],
   "source": [
    "plt.plot(range(2000), best_length)\n",
    "plt.show()"
   ]
  },
  {
   "cell_type": "markdown",
   "id": "a8bedf90",
   "metadata": {},
   "source": [
    "we can see after 1000 epochs, the data converged\n",
    "\n",
    "now let's see best route and its length..."
   ]
  },
  {
   "cell_type": "code",
   "execution_count": 20,
   "id": "e96ca771",
   "metadata": {
    "ExecuteTime": {
     "end_time": "2021-11-09T17:40:35.208623Z",
     "start_time": "2021-11-09T17:40:35.197638Z"
    }
   },
   "outputs": [
    {
     "name": "stdout",
     "output_type": "stream",
     "text": [
      "1766.3385912297\n",
      "[25, 84, 24, 23, 56, 57, 55, 54, 58, 53, 52, 51, 19, 11, 10, 18, 17, 12, 16, 20, 21, 22, 30, 33, 34, 38, 31, 32, 29, 28, 27, 26, 15, 14, 13, 2, 1, 3, 4, 5, 7, 8, 9, 6, 224, 225, 218, 217, 227, 226, 228, 229, 68, 69, 67, 63, 66, 65, 64, 62, 61, 60, 59, 83, 82, 81, 87, 85, 86, 89, 88, 80, 79, 78, 70, 71, 72, 73, 76, 77, 90, 91, 75, 74, 103, 102, 101, 100, 94, 93, 92, 36, 35, 37, 95, 96, 99, 98, 97, 104, 105, 107, 106, 112, 115, 118, 119, 121, 122, 123, 120, 116, 113, 117, 114, 111, 126, 127, 128, 129, 130, 171, 133, 131, 132, 138, 139, 142, 140, 141, 143, 144, 145, 146, 147, 148, 149, 151, 154, 155, 150, 204, 158, 157, 156, 159, 160, 161, 162, 153, 152, 136, 137, 134, 135, 172, 163, 164, 165, 173, 176, 175, 174, 170, 169, 168, 177, 179, 181, 180, 178, 182, 183, 185, 186, 187, 197, 198, 199, 200, 201, 202, 203, 211, 212, 205, 206, 207, 208, 209, 210, 213, 214, 215, 216, 219, 220, 221, 222, 223, 191, 192, 195, 196, 194, 193, 190, 189, 188, 48, 47, 49, 44, 43, 45, 42, 46, 50, 184, 41, 39, 40, 167, 166, 125, 124, 110, 109, 108]\n"
     ]
    }
   ],
   "source": [
    "length_gr229 = best_length[-1]\n",
    "route_gr229 = best_routes[-1]\n",
    "print(length_gr229)\n",
    "print(route_gr229)"
   ]
  },
  {
   "cell_type": "markdown",
   "id": "b61e35e4",
   "metadata": {
    "ExecuteTime": {
     "end_time": "2021-11-09T17:26:20.081354Z",
     "start_time": "2021-11-09T17:26:20.066395Z"
    }
   },
   "source": [
    "# Third test case(pr1002)\n",
    "first, let's get extract data from file"
   ]
  },
  {
   "cell_type": "code",
   "execution_count": 21,
   "id": "61df5eda",
   "metadata": {
    "ExecuteTime": {
     "end_time": "2021-11-09T17:40:41.781015Z",
     "start_time": "2021-11-09T17:40:40.329410Z"
    }
   },
   "outputs": [],
   "source": [
    "f = open(\"pr1002.tsp\", \"r\")\n",
    "txt = f.readlines()\n",
    "dic_city_location = {}\n",
    "dic_city_length = {}\n",
    "for i in range(len(txt)):\n",
    "    if 'DIMENSION' in txt[i]:\n",
    "        dimension = [int(s) for s in txt[i].split() if s.isdigit()][0]\n",
    "    if 'NODE_COORD_SECTION' in txt[i]:\n",
    "        for j in range(i + 1, i + 1 + dimension):\n",
    "            city_location = [float(idx) for idx in txt[j].split()]\n",
    "            dic_city_location[city_location[0]] = city_location[1], city_location[2]        \n",
    "for i in range(1, len(dic_city_location)):\n",
    "    for j in range(1, len(dic_city_location)):\n",
    "        if(j >= i):\n",
    "            dic_city_length[i, j + 1] = math.sqrt(pow((dic_city_location[i][0] - dic_city_location[j + 1][0]), 2) + pow((dic_city_location[i][1] - dic_city_location[j + 1][1]), 2))\n",
    "            dic_city_length[j + 1, i] = math.sqrt(pow((dic_city_location[i][0] - dic_city_location[j + 1][0]), 2) + pow((dic_city_location[i][1] - dic_city_location[j + 1][1]), 2))\n",
    "# creat two lists for saving best routes and lengths\n",
    "best_length = []\n",
    "best_routes = []"
   ]
  },
  {
   "cell_type": "markdown",
   "id": "a6400e48",
   "metadata": {},
   "source": [
    "create some initialize population and data-frame it."
   ]
  },
  {
   "cell_type": "code",
   "execution_count": 22,
   "id": "06ae93e9",
   "metadata": {
    "ExecuteTime": {
     "end_time": "2021-11-09T17:40:59.327032Z",
     "start_time": "2021-11-09T17:40:59.250232Z"
    }
   },
   "outputs": [
    {
     "data": {
      "text/html": [
       "<div>\n",
       "<style scoped>\n",
       "    .dataframe tbody tr th:only-of-type {\n",
       "        vertical-align: middle;\n",
       "    }\n",
       "\n",
       "    .dataframe tbody tr th {\n",
       "        vertical-align: top;\n",
       "    }\n",
       "\n",
       "    .dataframe thead th {\n",
       "        text-align: right;\n",
       "    }\n",
       "</style>\n",
       "<table border=\"1\" class=\"dataframe\">\n",
       "  <thead>\n",
       "    <tr style=\"text-align: right;\">\n",
       "      <th></th>\n",
       "      <th>routes</th>\n",
       "    </tr>\n",
       "  </thead>\n",
       "  <tbody>\n",
       "    <tr>\n",
       "      <th>0</th>\n",
       "      <td>[35, 573, 790, 55, 124, 455, 739, 235, 144, 34...</td>\n",
       "    </tr>\n",
       "    <tr>\n",
       "      <th>1</th>\n",
       "      <td>[478, 134, 536, 68, 53, 832, 971, 908, 578, 97...</td>\n",
       "    </tr>\n",
       "    <tr>\n",
       "      <th>2</th>\n",
       "      <td>[117, 423, 682, 33, 372, 791, 357, 686, 756, 9...</td>\n",
       "    </tr>\n",
       "    <tr>\n",
       "      <th>3</th>\n",
       "      <td>[59, 874, 396, 633, 71, 425, 456, 755, 384, 64...</td>\n",
       "    </tr>\n",
       "    <tr>\n",
       "      <th>4</th>\n",
       "      <td>[282, 535, 308, 144, 435, 268, 851, 161, 827, ...</td>\n",
       "    </tr>\n",
       "    <tr>\n",
       "      <th>...</th>\n",
       "      <td>...</td>\n",
       "    </tr>\n",
       "    <tr>\n",
       "      <th>95</th>\n",
       "      <td>[167, 579, 893, 792, 388, 134, 300, 153, 617, ...</td>\n",
       "    </tr>\n",
       "    <tr>\n",
       "      <th>96</th>\n",
       "      <td>[440, 153, 525, 953, 987, 238, 667, 165, 202, ...</td>\n",
       "    </tr>\n",
       "    <tr>\n",
       "      <th>97</th>\n",
       "      <td>[461, 341, 671, 992, 577, 545, 731, 679, 297, ...</td>\n",
       "    </tr>\n",
       "    <tr>\n",
       "      <th>98</th>\n",
       "      <td>[940, 575, 524, 862, 72, 313, 771, 593, 288, 5...</td>\n",
       "    </tr>\n",
       "    <tr>\n",
       "      <th>99</th>\n",
       "      <td>[649, 399, 700, 297, 58, 149, 971, 471, 175, 2...</td>\n",
       "    </tr>\n",
       "  </tbody>\n",
       "</table>\n",
       "<p>100 rows × 1 columns</p>\n",
       "</div>"
      ],
      "text/plain": [
       "                                               routes\n",
       "0   [35, 573, 790, 55, 124, 455, 739, 235, 144, 34...\n",
       "1   [478, 134, 536, 68, 53, 832, 971, 908, 578, 97...\n",
       "2   [117, 423, 682, 33, 372, 791, 357, 686, 756, 9...\n",
       "3   [59, 874, 396, 633, 71, 425, 456, 755, 384, 64...\n",
       "4   [282, 535, 308, 144, 435, 268, 851, 161, 827, ...\n",
       "..                                                ...\n",
       "95  [167, 579, 893, 792, 388, 134, 300, 153, 617, ...\n",
       "96  [440, 153, 525, 953, 987, 238, 667, 165, 202, ...\n",
       "97  [461, 341, 671, 992, 577, 545, 731, 679, 297, ...\n",
       "98  [940, 575, 524, 862, 72, 313, 771, 593, 288, 5...\n",
       "99  [649, 399, 700, 297, 58, 149, 971, 471, 175, 2...\n",
       "\n",
       "[100 rows x 1 columns]"
      ]
     },
     "execution_count": 22,
     "metadata": {},
     "output_type": "execute_result"
    }
   ],
   "source": [
    "routes = []\n",
    "while(len(routes) < 100): \n",
    "    new_route = random.sample(range(1, dimension + 1), dimension)\n",
    "    # check if new route is unique or not\n",
    "    if new_route not in routes:\n",
    "        routes.append(new_route)\n",
    "df = {'routes' : routes}\n",
    "df = pd.DataFrame(df)\n",
    "df"
   ]
  },
  {
   "cell_type": "markdown",
   "id": "a7bb9277",
   "metadata": {},
   "source": [
    "for this case, we have 100 initialize population, 20000 epochs, crossover = 0%, mutation = 100%, and 100 number of survivor"
   ]
  },
  {
   "cell_type": "code",
   "execution_count": 23,
   "id": "281d4771",
   "metadata": {
    "ExecuteTime": {
     "end_time": "2021-11-09T20:02:49.484083Z",
     "start_time": "2021-11-09T17:41:33.347247Z"
    }
   },
   "outputs": [],
   "source": [
    "ga_tsp(df, 100, 20000)"
   ]
  },
  {
   "cell_type": "code",
   "execution_count": 24,
   "id": "568b279e",
   "metadata": {
    "ExecuteTime": {
     "end_time": "2021-11-09T20:03:39.104200Z",
     "start_time": "2021-11-09T20:03:38.980046Z"
    },
    "scrolled": true
   },
   "outputs": [
    {
     "data": {
      "image/png": "[encoded data removed]",
      "text/plain": [
       "<Figure size 432x288 with 1 Axes>"
      ]
     },
     "metadata": {
      "needs_background": "light"
     },
     "output_type": "display_data"
    }
   ],
   "source": [
    "plt.plot(range(20000), best_length)\n",
    "plt.show()"
   ]
  },
  {
   "cell_type": "markdown",
   "id": "c94468da",
   "metadata": {},
   "source": [
    "we can see after 10000 epochs, the data converged(the Y axis is a single digit because the list of numbers has been very large)\n",
    "\n",
    "now let's see best route and its length..."
   ]
  },
  {
   "cell_type": "code",
   "execution_count": 25,
   "id": "d28ca0f2",
   "metadata": {
    "ExecuteTime": {
     "end_time": "2021-11-09T20:04:29.370185Z",
     "start_time": "2021-11-09T20:04:29.357242Z"
    }
   },
   "outputs": [
    {
     "name": "stdout",
     "output_type": "stream",
     "text": [
      "286603.6453676496\n",
      "[579, 580, 578, 577, 576, 575, 573, 572, 574, 588, 589, 590, 594, 593, 595, 596, 597, 599, 598, 600, 601, 797, 796, 795, 794, 793, 789, 790, 791, 792, 732, 731, 730, 736, 737, 708, 709, 713, 710, 711, 712, 723, 728, 729, 727, 724, 725, 726, 663, 664, 665, 668, 667, 666, 670, 669, 672, 671, 674, 677, 675, 676, 682, 681, 680, 679, 678, 673, 719, 718, 720, 722, 714, 715, 721, 717, 716, 695, 694, 696, 707, 706, 697, 705, 698, 699, 700, 701, 969, 972, 971, 970, 693, 692, 691, 690, 689, 688, 687, 686, 685, 683, 684, 988, 989, 990, 984, 983, 985, 986, 987, 982, 981, 980, 979, 978, 977, 976, 975, 974, 973, 968, 967, 966, 965, 964, 963, 702, 703, 704, 740, 739, 738, 735, 734, 744, 745, 742, 741, 743, 747, 748, 746, 733, 749, 750, 751, 752, 753, 754, 755, 1000, 763, 764, 765, 962, 961, 993, 956, 955, 954, 953, 952, 951, 950, 949, 948, 947, 946, 945, 944, 943, 942, 941, 940, 939, 957, 958, 959, 960, 769, 767, 766, 768, 770, 771, 772, 774, 775, 773, 935, 934, 936, 938, 937, 933, 932, 931, 930, 929, 928, 927, 884, 885, 921, 922, 923, 924, 925, 926, 916, 917, 918, 902, 901, 900, 919, 920, 887, 891, 890, 889, 888, 886, 883, 882, 881, 880, 879, 878, 877, 876, 870, 871, 872, 869, 867, 868, 873, 875, 874, 847, 892, 893, 894, 895, 846, 848, 849, 845, 844, 850, 851, 843, 842, 897, 896, 898, 899, 907, 908, 906, 903, 904, 905, 909, 910, 911, 912, 915, 914, 913, 777, 776, 778, 779, 780, 762, 761, 760, 759, 758, 757, 756, 788, 787, 786, 785, 784, 783, 781, 782, 803, 802, 801, 798, 799, 800, 804, 805, 806, 1001, 807, 808, 809, 810, 813, 818, 814, 815, 841, 840, 839, 858, 852, 853, 857, 854, 855, 856, 862, 863, 864, 865, 866, 861, 860, 859, 1002, 838, 837, 836, 835, 834, 833, 832, 831, 830, 829, 826, 827, 828, 817, 816, 819, 820, 812, 811, 821, 822, 823, 824, 825, 552, 551, 550, 553, 554, 555, 556, 557, 558, 560, 559, 592, 591, 571, 570, 568, 566, 565, 564, 563, 561, 562, 549, 548, 542, 543, 547, 546, 545, 540, 544, 541, 539, 538, 537, 536, 535, 533, 534, 532, 531, 529, 528, 527, 526, 525, 530, 524, 523, 522, 516, 517, 521, 520, 519, 518, 567, 569, 514, 515, 512, 513, 487, 486, 485, 484, 492, 483, 493, 494, 495, 491, 490, 488, 489, 500, 499, 498, 507, 508, 509, 511, 510, 999, 506, 505, 504, 503, 502, 501, 213, 216, 217, 212, 211, 210, 209, 208, 207, 205, 206, 204, 203, 996, 202, 201, 200, 199, 198, 197, 196, 195, 187, 188, 194, 193, 189, 192, 190, 191, 218, 219, 215, 214, 220, 222, 223, 224, 496, 497, 225, 226, 227, 272, 273, 274, 275, 276, 277, 281, 282, 283, 301, 302, 303, 304, 113, 111, 110, 112, 114, 115, 280, 278, 279, 117, 116, 118, 119, 106, 105, 104, 103, 994, 107, 108, 109, 306, 305, 991, 297, 298, 300, 299, 284, 285, 286, 287, 288, 404, 403, 402, 408, 409, 380, 381, 385, 382, 383, 384, 395, 340, 339, 391, 390, 392, 394, 393, 389, 388, 387, 386, 379, 378, 368, 366, 367, 362, 361, 360, 352, 351, 350, 353, 354, 357, 358, 359, 363, 364, 365, 642, 643, 644, 641, 640, 639, 638, 637, 636, 635, 374, 375, 376, 373, 372, 371, 370, 369, 377, 412, 411, 413, 414, 415, 417, 416, 410, 407, 406, 405, 418, 420, 419, 427, 426, 425, 424, 422, 421, 423, 464, 463, 462, 461, 428, 460, 465, 466, 467, 468, 469, 470, 480, 479, 481, 482, 998, 478, 477, 471, 472, 476, 475, 474, 473, 459, 458, 457, 456, 455, 453, 454, 450, 451, 452, 432, 431, 430, 429, 997, 435, 436, 437, 433, 434, 447, 446, 444, 445, 448, 449, 585, 584, 583, 582, 581, 587, 586, 602, 603, 604, 613, 612, 605, 606, 607, 608, 609, 610, 611, 629, 630, 632, 631, 443, 442, 441, 440, 438, 439, 634, 633, 992, 625, 626, 628, 627, 614, 615, 616, 617, 618, 619, 620, 624, 623, 621, 622, 649, 650, 651, 648, 645, 646, 647, 652, 653, 654, 659, 658, 657, 655, 656, 662, 661, 660, 356, 355, 348, 347, 346, 349, 345, 344, 343, 341, 342, 338, 337, 336, 335, 398, 397, 396, 400, 401, 399, 292, 291, 290, 289, 296, 295, 293, 294, 321, 322, 323, 320, 317, 318, 319, 324, 326, 325, 316, 315, 314, 313, 312, 311, 310, 309, 308, 307, 46, 47, 48, 45, 44, 43, 42, 49, 41, 50, 40, 51, 84, 83, 80, 81, 52, 53, 57, 54, 55, 56, 67, 66, 58, 59, 65, 61, 60, 39, 38, 37, 36, 35, 34, 33, 32, 31, 30, 26, 29, 331, 330, 329, 327, 328, 334, 333, 332, 28, 27, 20, 19, 18, 21, 25, 24, 23, 22, 17, 16, 15, 13, 14, 10, 9, 8, 7, 11, 12, 63, 62, 64, 68, 69, 70, 72, 73, 71, 5, 4, 6, 3, 2, 1, 74, 75, 77, 93, 94, 96, 97, 98, 99, 91, 92, 90, 89, 87, 85, 86, 88, 82, 78, 79, 76, 95, 134, 133, 100, 101, 102, 128, 129, 130, 131, 132, 135, 136, 137, 138, 139, 140, 141, 142, 143, 144, 149, 148, 146, 145, 147, 126, 127, 125, 124, 123, 122, 120, 121, 257, 256, 255, 254, 253, 259, 258, 270, 271, 269, 268, 267, 266, 265, 229, 228, 230, 232, 231, 264, 263, 243, 244, 245, 246, 262, 261, 260, 248, 247, 249, 250, 251, 252, 995, 150, 151, 152, 153, 154, 155, 165, 166, 167, 168, 169, 172, 171, 170, 173, 174, 175, 176, 177, 178, 179, 180, 181, 182, 183, 184, 185, 159, 160, 161, 163, 162, 158, 164, 156, 157, 186, 241, 242, 240, 235, 233, 234, 221, 236, 237, 239, 238]\n"
     ]
    }
   ],
   "source": [
    "length_pr1002 = best_length[-1]\n",
    "route_pr1002 = best_routes[-1]\n",
    "print(length_pr1002)\n",
    "print(route_pr1002)"
   ]
  }
 ],
 "metadata": {
  "kernelspec": {
   "display_name": "Python 3 (ipykernel)",
   "language": "python",
   "name": "python3"
  },
  "language_info": {
   "codemirror_mode": {
    "name": "ipython",
    "version": 3
   },
   "file_extension": ".py",
   "mimetype": "text/x-python",
   "name": "python",
   "nbconvert_exporter": "python",
   "pygments_lexer": "ipython3",
   "version": "3.8.0"
  },
  "varInspector": {
   "cols": {
    "lenName": 16,
    "lenType": 16,
    "lenVar": 40
   },
   "kernels_config": {
    "python": {
     "delete_cmd_postfix": "",
     "delete_cmd_prefix": "del ",
     "library": "var_list.py",
     "varRefreshCmd": "print(var_dic_list())"
    },
    "r": {
     "delete_cmd_postfix": ") ",
     "delete_cmd_prefix": "rm(",
     "library": "var_list.r",
     "varRefreshCmd": "cat(var_dic_list()) "
    }
   },
   "types_to_exclude": [
    "module",
    "function",
    "builtin_function_or_method",
    "instance",
    "_Feature"
   ],
   "window_display": false
  }
 },
 "nbformat": 4,
 "nbformat_minor": 5
}
